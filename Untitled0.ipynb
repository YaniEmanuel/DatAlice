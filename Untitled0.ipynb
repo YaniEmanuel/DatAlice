{
  "nbformat": 4,
  "nbformat_minor": 0,
  "metadata": {
    "colab": {
      "provenance": [],
      "authorship_tag": "ABX9TyOtj4uSrCkWk/Nl+2c6Ml7X",
      "include_colab_link": true
    },
    "kernelspec": {
      "name": "python3",
      "display_name": "Python 3"
    },
    "language_info": {
      "name": "python"
    }
  },
  "cells": [
    {
      "cell_type": "markdown",
      "metadata": {
        "id": "view-in-github",
        "colab_type": "text"
      },
      "source": [
        "<a href=\"https://colab.research.google.com/github/YaniEmanuel/DatAlice/blob/main/Untitled0.ipynb\" target=\"_parent\"><img src=\"https://colab.research.google.com/assets/colab-badge.svg\" alt=\"Open In Colab\"/></a>"
      ]
    },
    {
      "cell_type": "code",
      "execution_count": 2,
      "metadata": {
        "id": "PUWQOPQ7SJGn"
      },
      "outputs": [],
      "source": [
        "# Excel_processing.py\n",
        "\n",
        "import pandas as pd\n",
        "\n",
        "def process_excel(file_path):\n",
        "    \"\"\"\n",
        "    Procesa un archivo Excel y devuelve un DataFrame de Pandas.\n",
        "\n",
        "    Parameters:\n",
        "    - file_path: Ruta al archivo Excel.\n",
        "\n",
        "    Returns:\n",
        "    - DataFrame de Pandas.\n",
        "    \"\"\"\n",
        "    df = pd.read_excel(file_path)\n",
        "    # Realiza cualquier procesamiento adicional según sea necesario\n",
        "    return df\n"
      ]
    },
    {
      "cell_type": "code",
      "source": [],
      "metadata": {
        "id": "YyK2Oc1YSqJl"
      },
      "execution_count": null,
      "outputs": []
    }
  ]
}